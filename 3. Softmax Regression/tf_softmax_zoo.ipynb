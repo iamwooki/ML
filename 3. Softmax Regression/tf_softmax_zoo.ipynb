{
  "nbformat": 4,
  "nbformat_minor": 0,
  "metadata": {
    "colab": {
      "name": "tf_softmax_zoo.ipynb",
      "provenance": [],
      "collapsed_sections": []
    },
    "kernelspec": {
      "name": "python3",
      "display_name": "Python 3"
    }
  },
  "cells": [
    {
      "cell_type": "code",
      "metadata": {
        "id": "x0kqelTMBgh3",
        "colab_type": "code",
        "colab": {}
      },
      "source": [
        "import tensorflow.compat.v1 as tf\n",
        "import numpy as np\n",
        "tf.disable_v2_behavior()\n",
        "#버전 2.0으로 업그레이드됨에 따라 v1과 호환이 되지 않음"
      ],
      "execution_count": 0,
      "outputs": []
    },
    {
      "cell_type": "code",
      "metadata": {
        "id": "P-MyssYHMGpp",
        "colab_type": "code",
        "colab": {
          "resources": {
            "http://localhost:8080/nbextensions/google.colab/files.js": {
              "data": "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",
              "ok": true,
              "headers": [
                [
                  "content-type",
                  "application/javascript"
                ]
              ],
              "status": 200,
              "status_text": ""
            }
          },
          "base_uri": "https://localhost:8080/",
          "height": 71
        },
        "outputId": "9abc730f-1d11-4a9d-b983-4c684835be5c"
      },
      "source": [
        "from google.colab import files\n",
        "uploaded = files.upload()"
      ],
      "execution_count": 25,
      "outputs": [
        {
          "output_type": "display_data",
          "data": {
            "text/html": [
              "\n",
              "     <input type=\"file\" id=\"files-9a824fc5-5183-4631-b5f6-67a923b96e14\" name=\"files[]\" multiple disabled />\n",
              "     <output id=\"result-9a824fc5-5183-4631-b5f6-67a923b96e14\">\n",
              "      Upload widget is only available when the cell has been executed in the\n",
              "      current browser session. Please rerun this cell to enable.\n",
              "      </output>\n",
              "      <script src=\"/nbextensions/google.colab/files.js\"></script> "
            ],
            "text/plain": [
              "<IPython.core.display.HTML object>"
            ]
          },
          "metadata": {
            "tags": []
          }
        },
        {
          "output_type": "stream",
          "text": [
            "Saving data-04-zoo.csv to data-04-zoo.csv\n"
          ],
          "name": "stdout"
        }
      ]
    },
    {
      "cell_type": "code",
      "metadata": {
        "id": "KG-QknDEDVbV",
        "colab_type": "code",
        "colab": {}
      },
      "source": [
        "xy = np.loadtxt('data-04-zoo.csv', delimiter=',', dtype=np.float32)\n",
        "x_data = xy[:, 0:-1]\n",
        "y_data = xy[:, [-1]]"
      ],
      "execution_count": 0,
      "outputs": []
    },
    {
      "cell_type": "code",
      "metadata": {
        "id": "1T-2xSAyHb4c",
        "colab_type": "code",
        "colab": {}
      },
      "source": [
        "nb_classes = 7 # 클래스의 갯수를 표현\n",
        "X = tf.placeholder(tf.float32,[None, 16]) #[N,16]\n",
        "Y = tf.placeholder(tf.int32,[None, 1]) #[N,1] 0~6\\"
      ],
      "execution_count": 0,
      "outputs": []
    },
    {
      "cell_type": "code",
      "metadata": {
        "id": "nN7YztUyNHn9",
        "colab_type": "code",
        "colab": {}
      },
      "source": [
        "Y_one_hot = tf.one_hot(Y, nb_classes) # one hot\n",
        "Y_one_hot = tf.reshape(Y_one_hot, [-1, nb_classes])"
      ],
      "execution_count": 0,
      "outputs": []
    },
    {
      "cell_type": "code",
      "metadata": {
        "id": "eWqjK1GyHeQM",
        "colab_type": "code",
        "colab": {}
      },
      "source": [
        "W = tf.Variable(tf.random_normal([16, nb_classes], name='weight')) # 4개 input(x), output(y) : nb_classes\n",
        "b = tf.Variable(tf.random_normal([nb_classes]), name='bias')"
      ],
      "execution_count": 0,
      "outputs": []
    },
    {
      "cell_type": "code",
      "metadata": {
        "id": "G_lOJiL2H6NG",
        "colab_type": "code",
        "colab": {}
      },
      "source": [
        "#tf.nn.softmax = compute softmax activations\n",
        "#softmax = exp(logits) / reduce_sum(exp(logits), dim)\n",
        "logits = tf.matmul(X,W) + b\n",
        "hypothesis = tf.nn.softmax(logits)"
      ],
      "execution_count": 0,
      "outputs": []
    },
    {
      "cell_type": "code",
      "metadata": {
        "id": "zO2krJGyIH_-",
        "colab_type": "code",
        "colab": {
          "base_uri": "https://localhost:8080/",
          "height": 173
        },
        "outputId": "342eda9a-f531-430c-c1d6-6282718f3e9f"
      },
      "source": [
        "#Cross entropy cost(loss)\n",
        "cost_i = tf.nn.softmax_cross_entropy_with_logits(logits=logits, labels= Y_one_hot)\n",
        "\n",
        "cost = tf.reduce_mean(cost_i)\n",
        "optimizer = tf.train.GradientDescentOptimizer(learning_rate=0.1).minimize(cost)"
      ],
      "execution_count": 32,
      "outputs": [
        {
          "output_type": "stream",
          "text": [
            "WARNING:tensorflow:From <ipython-input-32-813d17d7264e>:1: softmax_cross_entropy_with_logits (from tensorflow.python.ops.nn_ops) is deprecated and will be removed in a future version.\n",
            "Instructions for updating:\n",
            "\n",
            "Future major versions of TensorFlow will allow gradients to flow\n",
            "into the labels input on backprop by default.\n",
            "\n",
            "See `tf.nn.softmax_cross_entropy_with_logits_v2`.\n",
            "\n"
          ],
          "name": "stdout"
        }
      ]
    },
    {
      "cell_type": "code",
      "metadata": {
        "id": "RXHAR8_XOCCa",
        "colab_type": "code",
        "colab": {}
      },
      "source": [
        "prediction = tf.argmax(hypothesis, 1) \n",
        "correct_prediction = tf.equal(prediction, tf.argmax(Y_one_hot,1))\n",
        "accuracy = tf.reduce_mean(tf.cast(correct_prediction, tf.float32))"
      ],
      "execution_count": 0,
      "outputs": []
    },
    {
      "cell_type": "code",
      "metadata": {
        "id": "Xq63mGyzIUNI",
        "colab_type": "code",
        "colab": {
          "base_uri": "https://localhost:8080/",
          "height": 1000
        },
        "outputId": "425d696f-8a14-461e-c088-65bcf28c6ba8"
      },
      "source": [
        "#Launch graph\n",
        "with tf.Session() as sess:\n",
        "  sess.run(tf.global_variables_initializer())\n",
        "\n",
        "  for step in range(2000):\n",
        "    sess.run(optimizer, feed_dict={X: x_data, Y: y_data})\n",
        "    if step % 100 == 0:\n",
        "      loss, acc = step, sess.run([cost, accuracy], feed_dict={X:x_data, Y:y_data})\n",
        "      print(\"Step: {}\\tCost: {}\\tAcc: {}\".format(step, loss, acc))\n",
        "  \n",
        "  #학습이 끝나면\n",
        "  pred = sess.run(prediction, feed_dict={X: x_data})\n",
        "  for p, y in zip(pred, y_data.flatten()):\n",
        "    print(\"[{}] Prediction : {} True Y: {}\".format(p==int(y), p, int(y)))\n",
        "  "
      ],
      "execution_count": 45,
      "outputs": [
        {
          "output_type": "stream",
          "text": [
            "Step: 0\tCost: 0\tAcc: [3.77865, 0.00990099]\n",
            "Step: 100\tCost: 100\tAcc: [0.608343, 0.8613861]\n",
            "Step: 200\tCost: 200\tAcc: [0.4180364, 0.8712871]\n",
            "Step: 300\tCost: 300\tAcc: [0.32129872, 0.9009901]\n",
            "Step: 400\tCost: 400\tAcc: [0.258887, 0.9405941]\n",
            "Step: 500\tCost: 500\tAcc: [0.21531317, 0.9405941]\n",
            "Step: 600\tCost: 600\tAcc: [0.18342945, 0.95049506]\n",
            "Step: 700\tCost: 700\tAcc: [0.15925395, 0.97029704]\n",
            "Step: 800\tCost: 800\tAcc: [0.14040492, 0.97029704]\n",
            "Step: 900\tCost: 900\tAcc: [0.1253771, 0.990099]\n",
            "Step: 1000\tCost: 1000\tAcc: [0.113170475, 1.0]\n",
            "Step: 1100\tCost: 1100\tAcc: [0.103093825, 1.0]\n",
            "Step: 1200\tCost: 1200\tAcc: [0.094654724, 1.0]\n",
            "Step: 1300\tCost: 1300\tAcc: [0.08749519, 1.0]\n",
            "Step: 1400\tCost: 1400\tAcc: [0.081350386, 1.0]\n",
            "Step: 1500\tCost: 1500\tAcc: [0.07602166, 1.0]\n",
            "Step: 1600\tCost: 1600\tAcc: [0.07135765, 1.0]\n",
            "Step: 1700\tCost: 1700\tAcc: [0.06724165, 1.0]\n",
            "Step: 1800\tCost: 1800\tAcc: [0.06358248, 1.0]\n",
            "Step: 1900\tCost: 1900\tAcc: [0.060307905, 1.0]\n",
            "[True] Prediction : 0 True Y: 0\n",
            "[True] Prediction : 0 True Y: 0\n",
            "[True] Prediction : 3 True Y: 3\n",
            "[True] Prediction : 0 True Y: 0\n",
            "[True] Prediction : 0 True Y: 0\n",
            "[True] Prediction : 0 True Y: 0\n",
            "[True] Prediction : 0 True Y: 0\n",
            "[True] Prediction : 3 True Y: 3\n",
            "[True] Prediction : 3 True Y: 3\n",
            "[True] Prediction : 0 True Y: 0\n",
            "[True] Prediction : 0 True Y: 0\n",
            "[True] Prediction : 1 True Y: 1\n",
            "[True] Prediction : 3 True Y: 3\n",
            "[True] Prediction : 6 True Y: 6\n",
            "[True] Prediction : 6 True Y: 6\n",
            "[True] Prediction : 6 True Y: 6\n",
            "[True] Prediction : 1 True Y: 1\n",
            "[True] Prediction : 0 True Y: 0\n",
            "[True] Prediction : 3 True Y: 3\n",
            "[True] Prediction : 0 True Y: 0\n",
            "[True] Prediction : 1 True Y: 1\n",
            "[True] Prediction : 1 True Y: 1\n",
            "[True] Prediction : 0 True Y: 0\n",
            "[True] Prediction : 1 True Y: 1\n",
            "[True] Prediction : 5 True Y: 5\n",
            "[True] Prediction : 4 True Y: 4\n",
            "[True] Prediction : 4 True Y: 4\n",
            "[True] Prediction : 0 True Y: 0\n",
            "[True] Prediction : 0 True Y: 0\n",
            "[True] Prediction : 0 True Y: 0\n",
            "[True] Prediction : 5 True Y: 5\n",
            "[True] Prediction : 0 True Y: 0\n",
            "[True] Prediction : 0 True Y: 0\n",
            "[True] Prediction : 1 True Y: 1\n",
            "[True] Prediction : 3 True Y: 3\n",
            "[True] Prediction : 0 True Y: 0\n",
            "[True] Prediction : 0 True Y: 0\n",
            "[True] Prediction : 1 True Y: 1\n",
            "[True] Prediction : 3 True Y: 3\n",
            "[True] Prediction : 5 True Y: 5\n",
            "[True] Prediction : 5 True Y: 5\n",
            "[True] Prediction : 1 True Y: 1\n",
            "[True] Prediction : 5 True Y: 5\n",
            "[True] Prediction : 1 True Y: 1\n",
            "[True] Prediction : 0 True Y: 0\n",
            "[True] Prediction : 0 True Y: 0\n",
            "[True] Prediction : 6 True Y: 6\n",
            "[True] Prediction : 0 True Y: 0\n",
            "[True] Prediction : 0 True Y: 0\n",
            "[True] Prediction : 0 True Y: 0\n",
            "[True] Prediction : 0 True Y: 0\n",
            "[True] Prediction : 5 True Y: 5\n",
            "[True] Prediction : 4 True Y: 4\n",
            "[True] Prediction : 6 True Y: 6\n",
            "[True] Prediction : 0 True Y: 0\n",
            "[True] Prediction : 0 True Y: 0\n",
            "[True] Prediction : 1 True Y: 1\n",
            "[True] Prediction : 1 True Y: 1\n",
            "[True] Prediction : 1 True Y: 1\n",
            "[True] Prediction : 1 True Y: 1\n",
            "[True] Prediction : 3 True Y: 3\n",
            "[True] Prediction : 3 True Y: 3\n",
            "[True] Prediction : 2 True Y: 2\n",
            "[True] Prediction : 0 True Y: 0\n",
            "[True] Prediction : 0 True Y: 0\n",
            "[True] Prediction : 0 True Y: 0\n",
            "[True] Prediction : 0 True Y: 0\n",
            "[True] Prediction : 0 True Y: 0\n",
            "[True] Prediction : 0 True Y: 0\n",
            "[True] Prediction : 0 True Y: 0\n",
            "[True] Prediction : 0 True Y: 0\n",
            "[True] Prediction : 1 True Y: 1\n",
            "[True] Prediction : 6 True Y: 6\n",
            "[True] Prediction : 3 True Y: 3\n",
            "[True] Prediction : 0 True Y: 0\n",
            "[True] Prediction : 0 True Y: 0\n",
            "[True] Prediction : 2 True Y: 2\n",
            "[True] Prediction : 6 True Y: 6\n",
            "[True] Prediction : 1 True Y: 1\n",
            "[True] Prediction : 1 True Y: 1\n",
            "[True] Prediction : 2 True Y: 2\n",
            "[True] Prediction : 6 True Y: 6\n",
            "[True] Prediction : 3 True Y: 3\n",
            "[True] Prediction : 1 True Y: 1\n",
            "[True] Prediction : 0 True Y: 0\n",
            "[True] Prediction : 6 True Y: 6\n",
            "[True] Prediction : 3 True Y: 3\n",
            "[True] Prediction : 1 True Y: 1\n",
            "[True] Prediction : 5 True Y: 5\n",
            "[True] Prediction : 4 True Y: 4\n",
            "[True] Prediction : 2 True Y: 2\n",
            "[True] Prediction : 2 True Y: 2\n",
            "[True] Prediction : 3 True Y: 3\n",
            "[True] Prediction : 0 True Y: 0\n",
            "[True] Prediction : 0 True Y: 0\n",
            "[True] Prediction : 1 True Y: 1\n",
            "[True] Prediction : 0 True Y: 0\n",
            "[True] Prediction : 5 True Y: 5\n",
            "[True] Prediction : 0 True Y: 0\n",
            "[True] Prediction : 6 True Y: 6\n",
            "[True] Prediction : 1 True Y: 1\n"
          ],
          "name": "stdout"
        }
      ]
    }
  ]
}