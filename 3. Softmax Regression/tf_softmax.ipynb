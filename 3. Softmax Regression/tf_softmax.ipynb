{
  "nbformat": 4,
  "nbformat_minor": 0,
  "metadata": {
    "colab": {
      "name": "tf_softmax.ipynb",
      "provenance": [],
      "collapsed_sections": []
    },
    "kernelspec": {
      "name": "python3",
      "display_name": "Python 3"
    }
  },
  "cells": [
    {
      "cell_type": "code",
      "metadata": {
        "id": "x0kqelTMBgh3",
        "colab_type": "code",
        "colab": {
          "base_uri": "https://localhost:8080/",
          "height": 88
        },
        "outputId": "64448f02-9258-44e5-97c0-1e67fb960555"
      },
      "source": [
        "import tensorflow.compat.v1 as tf\n",
        "tf.disable_v2_behavior()\n",
        "#버전 2.0으로 업그레이드됨에 따라 v1과 호환이 되지 않음"
      ],
      "execution_count": 2,
      "outputs": [
        {
          "output_type": "stream",
          "text": [
            "WARNING:tensorflow:From /usr/local/lib/python3.6/dist-packages/tensorflow/python/compat/v2_compat.py:96: disable_resource_variables (from tensorflow.python.ops.variable_scope) is deprecated and will be removed in a future version.\n",
            "Instructions for updating:\n",
            "non-resource variables are not supported in the long term\n"
          ],
          "name": "stdout"
        }
      ]
    },
    {
      "cell_type": "code",
      "metadata": {
        "id": "KG-QknDEDVbV",
        "colab_type": "code",
        "colab": {}
      },
      "source": [
        "x_data = [[1,2,1,1],[2,1,3,2],[3,1,3,4],[4,1,5,5],[1,7,5,5],[1,2,5,6],[1,6,6,6],[1,7,7,7]]\n",
        "y_data = [[0,0,1],[0,0,1],[0,0,1],[0,1,0],[0,1,0],[0,1,0],[1,0,0],[1,0,0]]"
      ],
      "execution_count": 0,
      "outputs": []
    },
    {
      "cell_type": "code",
      "metadata": {
        "id": "1T-2xSAyHb4c",
        "colab_type": "code",
        "colab": {}
      },
      "source": [
        "X = tf.placeholder(\"float\",[None, 4]) #[N,4]\n",
        "Y = tf.placeholder(\"float\",[None, 3]) #[N,3]\n",
        "nb_classes = 3 # 클래스의 갯수를 표현"
      ],
      "execution_count": 0,
      "outputs": []
    },
    {
      "cell_type": "code",
      "metadata": {
        "id": "eWqjK1GyHeQM",
        "colab_type": "code",
        "colab": {}
      },
      "source": [
        "W = tf.Variable(tf.random_normal([4, nb_classes], name='weight')) # 4개 input(x), output(y) : nb_classes\n",
        "b = tf.Variable(tf.random_normal([nb_classes]), name='bias')\n"
      ],
      "execution_count": 0,
      "outputs": []
    },
    {
      "cell_type": "code",
      "metadata": {
        "id": "G_lOJiL2H6NG",
        "colab_type": "code",
        "colab": {}
      },
      "source": [
        "#tf.nn.softmax = compute softmax activations\n",
        "#softmax = exp(logits) / reduce_sum(exp(logits), dim)\n",
        "hypothesis = tf.nn.softmax(tf.matmul(X,W) + b)"
      ],
      "execution_count": 0,
      "outputs": []
    },
    {
      "cell_type": "code",
      "metadata": {
        "id": "zO2krJGyIH_-",
        "colab_type": "code",
        "colab": {}
      },
      "source": [
        "#Cross entropy cost(loss)\n",
        "cost = tf.reduce_mean(-tf.reduce_sum(Y* tf.log(hypothesis), axis=1))\n",
        "optimizer = tf.train.GradientDescentOptimizer(learning_rate=0.1).minimize(cost)"
      ],
      "execution_count": 0,
      "outputs": []
    },
    {
      "cell_type": "code",
      "metadata": {
        "id": "Xq63mGyzIUNI",
        "colab_type": "code",
        "colab": {
          "base_uri": "https://localhost:8080/",
          "height": 238
        },
        "outputId": "1f20f264-7f18-4706-95c4-f7900aa18923"
      },
      "source": [
        "#Launch graph\n",
        "with tf.Session() as sess:\n",
        "  sess.run(tf.global_variables_initializer())\n",
        "\n",
        "  for step in range(2001):\n",
        "    sess.run(optimizer, feed_dict={X: x_data, Y: y_data})\n",
        "    if step % 200 == 0:\n",
        "      print(step, sess.run(cost, feed_dict={X:x_data, Y:y_data}))\n",
        "  print('------------------------------------------------------')\n",
        "  a = sess.run(hypothesis, feed_dict={X: [[1,11 ,7, 9]]})\n",
        "  print(a, sess.run(tf.arg_max(a,1)))"
      ],
      "execution_count": 19,
      "outputs": [
        {
          "output_type": "stream",
          "text": [
            "0 6.3117228\n",
            "200 0.6232747\n",
            "400 0.51333666\n",
            "600 0.42071375\n",
            "800 0.3308907\n",
            "1000 0.24615704\n",
            "1200 0.2159903\n",
            "1400 0.19712779\n",
            "1600 0.18120302\n",
            "1800 0.16758415\n",
            "2000 0.15581053\n",
            "------------------------------------------------------\n",
            "[[8.2930466e-03 9.9169534e-01 1.1541398e-05]] [1]\n"
          ],
          "name": "stdout"
        }
      ]
    },
    {
      "cell_type": "code",
      "metadata": {
        "id": "T4D3XN7-Kaee",
        "colab_type": "code",
        "colab": {
          "base_uri": "https://localhost:8080/",
          "height": 374
        },
        "outputId": "e0c80473-d94a-4213-824d-8656ff59f2b2"
      },
      "source": [
        "# Launch graph\n",
        "# https://github.com/hunkim/DeepLearningZeroToAll/blob/master/lab-06-1-softmax_classifier.py\n",
        "with tf.Session() as sess:\n",
        "    sess.run(tf.global_variables_initializer())\n",
        "\n",
        "    for step in range(2001):\n",
        "            _, cost_val = sess.run([optimizer, cost], feed_dict={X: x_data, Y: y_data})\n",
        "\n",
        "            if step % 200 == 0:\n",
        "                print(step, cost_val)\n",
        "\n",
        "    print('--------------')\n",
        "    # Testing & One-hot encoding\n",
        "    a = sess.run(hypothesis, feed_dict={X: [[1, 11, 7, 9]]})\n",
        "    print(a, sess.run(tf.argmax(a, 1)))\n",
        "\n",
        "    print('--------------')\n",
        "    b = sess.run(hypothesis, feed_dict={X: [[1, 3, 4, 3]]})\n",
        "    print(b, sess.run(tf.argmax(b, 1)))\n",
        "\n",
        "    print('--------------')\n",
        "    c = sess.run(hypothesis, feed_dict={X: [[1, 1, 0, 1]]})\n",
        "    print(c, sess.run(tf.argmax(c, 1)))\n",
        "\n",
        "    print('--------------')\n",
        "    all = sess.run(hypothesis, feed_dict={X: [[1, 11, 7, 9], [1, 3, 4, 3], [1, 1, 0, 1]]})\n",
        "    print(all, sess.run(tf.argmax(all, 1)))"
      ],
      "execution_count": 18,
      "outputs": [
        {
          "output_type": "stream",
          "text": [
            "0 8.233339\n",
            "200 0.523849\n",
            "400 0.43205595\n",
            "600 0.3567838\n",
            "800 0.2830611\n",
            "1000 0.23487589\n",
            "1200 0.2127719\n",
            "1400 0.1943693\n",
            "1600 0.17880522\n",
            "1800 0.16547453\n",
            "2000 0.15393421\n",
            "--------------\n",
            "[[3.9970833e-03 9.9599481e-01 8.0886384e-06]] [1]\n",
            "--------------\n",
            "[[0.8776282  0.11298912 0.00938266]] [0]\n",
            "--------------\n",
            "[[1.10872325e-08 3.17533908e-04 9.99682426e-01]] [2]\n",
            "--------------\n",
            "[[3.9970833e-03 9.9599481e-01 8.0886384e-06]\n",
            " [8.7762809e-01 1.1298921e-01 9.3826689e-03]\n",
            " [1.1087233e-08 3.1753362e-04 9.9968243e-01]] [1 0 2]\n"
          ],
          "name": "stdout"
        }
      ]
    }
  ]
}