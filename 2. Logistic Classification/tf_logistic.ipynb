{
  "nbformat": 4,
  "nbformat_minor": 0,
  "metadata": {
    "colab": {
      "name": "tf_logistic.ipynb",
      "provenance": [],
      "collapsed_sections": []
    },
    "kernelspec": {
      "name": "python3",
      "display_name": "Python 3"
    }
  },
  "cells": [
    {
      "cell_type": "code",
      "metadata": {
        "id": "x0kqelTMBgh3",
        "colab_type": "code",
        "colab": {}
      },
      "source": [
        "import tensorflow.compat.v1 as tf\n",
        "tf.disable_v2_behavior()\n",
        "#버전 2.0으로 업그레이드됨에 따라 v1과 호환이 되지 않음"
      ],
      "execution_count": 0,
      "outputs": []
    },
    {
      "cell_type": "code",
      "metadata": {
        "id": "KG-QknDEDVbV",
        "colab_type": "code",
        "colab": {}
      },
      "source": [
        "x_data = [[1, 2],\n",
        "          [2, 3],\n",
        "          [3, 1],\n",
        "          [4, 3],\n",
        "          [5, 3],\n",
        "          [6, 2]]\n",
        "y_data = [[0],\n",
        "          [0],\n",
        "          [0],\n",
        "          [1],\n",
        "          [1],\n",
        "          [1]]"
      ],
      "execution_count": 0,
      "outputs": []
    },
    {
      "cell_type": "code",
      "metadata": {
        "id": "1T-2xSAyHb4c",
        "colab_type": "code",
        "colab": {}
      },
      "source": [
        "#for feed_dict\n",
        "X = tf.placeholder(tf.float32,[None, 2]) #[N,2]\n",
        "Y = tf.placeholder(tf.float32,[None, 1]) #[N,1] 0~1"
      ],
      "execution_count": 0,
      "outputs": []
    },
    {
      "cell_type": "code",
      "metadata": {
        "id": "eWqjK1GyHeQM",
        "colab_type": "code",
        "colab": {}
      },
      "source": [
        "W = tf.Variable(tf.random_normal([2, 1], name='weight')) # 4개 input(x), output(y) : nb_classes\n",
        "b = tf.Variable(tf.random_normal([1]), name='bias') #나가는 값(갯수)에 맞춰서 bias를 선언"
      ],
      "execution_count": 0,
      "outputs": []
    },
    {
      "cell_type": "code",
      "metadata": {
        "id": "G_lOJiL2H6NG",
        "colab_type": "code",
        "colab": {}
      },
      "source": [
        "#Hypothesis using sigmoid: tf.div(1., 1. + tf.exp(tf.matmul(X,W)+b))  = 1/1+e^-(W^Transpose*X)\n",
        "hypothesis = tf.sigmoid(tf.matmul(X,W)+b)"
      ],
      "execution_count": 0,
      "outputs": []
    },
    {
      "cell_type": "code",
      "metadata": {
        "id": "z-XsLIpSTtkg",
        "colab_type": "code",
        "colab": {}
      },
      "source": [
        "#cost\n",
        "# cost/loss function\n",
        "cost = -tf.reduce_mean(Y * tf.log(hypothesis) + (1 - Y) *\n",
        "                       tf.log(1 - hypothesis))\n",
        "# cost(W)= -1/m * ∑ylog(H(x))+(1-y)(log(1-H(x)))\n",
        "\n",
        "train = tf.train.GradientDescentOptimizer(learning_rate=0.01).minimize(cost)\n",
        "#W:=W-a* å/åW * cost(W)"
      ],
      "execution_count": 0,
      "outputs": []
    },
    {
      "cell_type": "code",
      "metadata": {
        "id": "SBlXiq-3VjhR",
        "colab_type": "code",
        "colab": {}
      },
      "source": [
        "predicted = tf.cast(hypothesis > 0.5, dtype=tf.float32)\n",
        "accuracy = tf.reduce_mean(tf.cast(tf.equal(predicted, Y), dtype=tf.float32))\n",
        "# tf.cast(tf.equal(predicted, Y) true 나 false가 0 또는 1로 표현됨"
      ],
      "execution_count": 0,
      "outputs": []
    },
    {
      "cell_type": "code",
      "metadata": {
        "id": "Xq63mGyzIUNI",
        "colab_type": "code",
        "colab": {
          "base_uri": "https://localhost:8080/",
          "height": 1000
        },
        "outputId": "bc6efacf-f65c-4258-f35d-84530315ac89"
      },
      "source": [
        "# Launch graph\n",
        "with tf.Session() as sess:\n",
        "    # Initialize TensorFlow variables\n",
        "    sess.run(tf.global_variables_initializer())\n",
        "\n",
        "    for step in range(10001):\n",
        "        cost_val, _ = sess.run([cost, train], feed_dict={X: x_data, Y: y_data})\n",
        "        if step % 200 == 0:\n",
        "            print(step, cost_val)\n",
        "\n",
        "    # Accuracy report\n",
        "    h, c, a = sess.run([hypothesis, predicted, accuracy],\n",
        "                       feed_dict={X: x_data, Y: y_data})\n",
        "    print(\"\\nHypothesis: \", h, \"\\nCorrect (Y): \", c, \"\\nAccuracy: \", a)"
      ],
      "execution_count": 73,
      "outputs": [
        {
          "output_type": "stream",
          "text": [
            "0 1.0299352\n",
            "200 0.646855\n",
            "400 0.54234505\n",
            "600 0.49219656\n",
            "800 0.46196422\n",
            "1000 0.44010213\n",
            "1200 0.4223018\n",
            "1400 0.40676415\n",
            "1600 0.3926655\n",
            "1800 0.37959823\n",
            "2000 0.3673452\n",
            "2200 0.35578206\n",
            "2400 0.3448302\n",
            "2600 0.33443555\n",
            "2800 0.32455692\n",
            "3000 0.31516054\n",
            "3200 0.30621687\n",
            "3400 0.29769963\n",
            "3600 0.28958434\n",
            "3800 0.2818481\n",
            "4000 0.2744693\n",
            "4200 0.26742777\n",
            "4400 0.2607044\n",
            "4600 0.2542812\n",
            "4800 0.24814118\n",
            "5000 0.24226843\n",
            "5200 0.23664784\n",
            "5400 0.23126549\n",
            "5600 0.22610803\n",
            "5800 0.22116314\n",
            "6000 0.21641916\n",
            "6200 0.21186508\n",
            "6400 0.20749073\n",
            "6600 0.20328653\n",
            "6800 0.19924344\n",
            "7000 0.19535299\n",
            "7200 0.19160746\n",
            "7400 0.18799913\n",
            "7600 0.18452136\n",
            "7800 0.18116726\n",
            "8000 0.17793095\n",
            "8200 0.17480646\n",
            "8400 0.17178856\n",
            "8600 0.16887195\n",
            "8800 0.16605197\n",
            "9000 0.16332403\n",
            "9200 0.16068383\n",
            "9400 0.15812741\n",
            "9600 0.15565097\n",
            "9800 0.15325098\n",
            "10000 0.15092392\n",
            "\n",
            "Hypothesis:  [[0.0313435 ]\n",
            " [0.15965652]\n",
            " [0.30774015]\n",
            " [0.7800728 ]\n",
            " [0.93874675]\n",
            " [0.97989124]] \n",
            "Correct (Y):  [[0.]\n",
            " [0.]\n",
            " [0.]\n",
            " [1.]\n",
            " [1.]\n",
            " [1.]] \n",
            "Accuracy:  1.0\n"
          ],
          "name": "stdout"
        }
      ]
    }
  ]
}