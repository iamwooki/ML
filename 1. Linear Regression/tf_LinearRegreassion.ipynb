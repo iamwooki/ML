{
  "nbformat": 4,
  "nbformat_minor": 0,
  "metadata": {
    "colab": {
      "name": "tf_LinearRegreassion.ipynb",
      "provenance": [],
      "collapsed_sections": []
    },
    "kernelspec": {
      "name": "python3",
      "display_name": "Python 3"
    }
  },
  "cells": [
    {
      "cell_type": "code",
      "metadata": {
        "id": "x0kqelTMBgh3",
        "colab_type": "code",
        "colab": {}
      },
      "source": [
        "import matplotlib.pyplot as plt\n",
        "import tensorflow.compat.v1 as tf\n",
        "tf.disable_v2_behavior()\n",
        "#버전 2.0으로 업그레이드됨에 따라 v1과 호환이 되지 않음"
      ],
      "execution_count": 0,
      "outputs": []
    },
    {
      "cell_type": "code",
      "metadata": {
        "id": "KG-QknDEDVbV",
        "colab_type": "code",
        "colab": {}
      },
      "source": [
        "x = [1,2,3]\n",
        "y = [1,2,3]"
      ],
      "execution_count": 0,
      "outputs": []
    },
    {
      "cell_type": "code",
      "metadata": {
        "id": "zkoWOf6qDh97",
        "colab_type": "code",
        "colab": {}
      },
      "source": [
        "W = tf.placeholder(tf.float32) #임의로 바꿔가면서 판단하기 위해 placeholder\n",
        "hypothesis = W * x # H(x) = Wx"
      ],
      "execution_count": 0,
      "outputs": []
    },
    {
      "cell_type": "code",
      "metadata": {
        "id": "-1t_LcXUEVlI",
        "colab_type": "code",
        "colab": {}
      },
      "source": [
        "# cost/loss function\n",
        "cost = tf.reduce_mean(tf.square(hypothesis-y)) # cost(W) = 1/m Sigma_i=1 ^ m (Wx^i - y^i)^2"
      ],
      "execution_count": 0,
      "outputs": []
    },
    {
      "cell_type": "code",
      "metadata": {
        "id": "ppEBUcBBFPyB",
        "colab_type": "code",
        "colab": {}
      },
      "source": [
        "sess = tf.Session()\n",
        "sess.run(tf.global_variables_initializer())"
      ],
      "execution_count": 0,
      "outputs": []
    },
    {
      "cell_type": "code",
      "metadata": {
        "id": "11yNCpwOWlHK",
        "colab_type": "code",
        "colab": {}
      },
      "source": [
        "#그래프 그리기 위해\n",
        "W_val = []\n",
        "cost_val = []"
      ],
      "execution_count": 0,
      "outputs": []
    },
    {
      "cell_type": "code",
      "metadata": {
        "id": "4PmNovjlWpeR",
        "colab_type": "code",
        "colab": {}
      },
      "source": [
        "for i in range(-30, 50):\n",
        "  feed_W = i * 0.1 #w의 변화량\n",
        "  curr_cost, curr_W = sess.run([cost, W], feed_dict={W: feed_W}) #위에서 선언한 cost(W)에 W변화량(feed_W)로 세션 실행\n",
        "  W_val.append(curr_W)\n",
        "  cost_val.append(curr_cost)"
      ],
      "execution_count": 0,
      "outputs": []
    },
    {
      "cell_type": "code",
      "metadata": {
        "id": "pUC1Bhh8W0Wr",
        "colab_type": "code",
        "colab": {
          "base_uri": "https://localhost:8080/",
          "height": 279
        },
        "outputId": "728194fb-56c8-4e5c-90a2-ddec67a36614"
      },
      "source": [
        "plt.plot(W_val, cost_val)\n",
        "plt.xlabel(\"W\")\n",
        "plt.ylabel(\"cost(W)\")\n",
        "plt.show()"
      ],
      "execution_count": 29,
      "outputs": [
        {
          "output_type": "display_data",
          "data": {
            "image/png": "[encoded data removed]",
            "text/plain": [
              "<Figure size 432x288 with 1 Axes>"
            ]
          },
          "metadata": {
            "tags": []
          }
        }
      ]
    }
  ]
}