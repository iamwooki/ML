{
  "nbformat": 4,
  "nbformat_minor": 0,
  "metadata": {
    "colab": {
      "name": "TF_basic.ipynb",
      "provenance": [],
      "collapsed_sections": []
    },
    "kernelspec": {
      "name": "python3",
      "display_name": "Python 3"
    }
  },
  "cells": [
    {
      "cell_type": "code",
      "metadata": {
        "id": "x0kqelTMBgh3",
        "colab_type": "code",
        "colab": {
          "base_uri": "https://localhost:8080/",
          "height": 51
        },
        "outputId": "bd2545b7-a81d-4b94-bb33-b9f3cc7927e2"
      },
      "source": [
        "import tensorflow.compat.v1 as tf\n",
        "tf.disable_v2_behavior()\n",
        "#버전 2.0으로 업그레이드됨에 따라 v1과 호환이 되지 않음\n",
        "\n",
        "hello = tf.constant(\"Hello TF\")\n",
        "\n",
        "sess = tf.Session()\n",
        "\n",
        "print(tf.__version__)\n",
        "print(sess.run(hello))"
      ],
      "execution_count": 8,
      "outputs": [
        {
          "output_type": "stream",
          "text": [
            "2.2.0-rc2\n",
            "b'Hello TF'\n"
          ],
          "name": "stdout"
        }
      ]
    },
    {
      "cell_type": "code",
      "metadata": {
        "id": "KG-QknDEDVbV",
        "colab_type": "code",
        "colab": {
          "base_uri": "https://localhost:8080/",
          "height": 68
        },
        "outputId": "067b7556-3cd5-48ab-a85c-c4c4a0d347a5"
      },
      "source": [
        "#Computational Graph\n",
        "#1. 그래프 빌드\n",
        "node1 = tf.constant(3.0, tf.float32)\n",
        "node2 = tf.constant(4.0)\n",
        "node3 = tf.add(node1, node2)\n",
        "\n",
        "#2. Session 생성 sess = tf.Session()\n",
        "print(node1)\n",
        "print(node2)\n",
        "print(node3)"
      ],
      "execution_count": 9,
      "outputs": [
        {
          "output_type": "stream",
          "text": [
            "Tensor(\"Const_1:0\", shape=(), dtype=float32)\n",
            "Tensor(\"Const_2:0\", shape=(), dtype=float32)\n",
            "Tensor(\"Add:0\", shape=(), dtype=float32)\n"
          ],
          "name": "stdout"
        }
      ]
    },
    {
      "cell_type": "code",
      "metadata": {
        "id": "zkoWOf6qDh97",
        "colab_type": "code",
        "colab": {
          "base_uri": "https://localhost:8080/",
          "height": 51
        },
        "outputId": "ca77b09e-4bf6-44df-86d1-0a2483593aa0"
      },
      "source": [
        "sess = tf.Session()\n",
        "#3. 세션을 통한 런\n",
        "\n",
        "print(sess.run([node1, node2]))\n",
        "print(sess.run(node3))"
      ],
      "execution_count": 10,
      "outputs": [
        {
          "output_type": "stream",
          "text": [
            "[3.0, 4.0]\n",
            "7.0\n"
          ],
          "name": "stdout"
        }
      ]
    },
    {
      "cell_type": "code",
      "metadata": {
        "id": "-1t_LcXUEVlI",
        "colab_type": "code",
        "colab": {
          "base_uri": "https://localhost:8080/",
          "height": 51
        },
        "outputId": "fbef8539-3cab-4ca1-fdbb-6dd0adf11820"
      },
      "source": [
        "#Placeholder\n",
        "a = tf.placeholder(tf.float32)\n",
        "b = tf.placeholder(tf.float32)\n",
        "adder_node = a + b # tf.add(a,b) //op\n",
        "\n",
        "#feed_dict, placeholder의 경우 위에 생성해둔 것 외에 값을 알지 못함 따라서 feed_dict를 통해 값을 넘겨줌\n",
        "\n",
        "#sess.run(op, feed_dict={x: x_data})\n",
        "print(sess.run(adder_node, feed_dict={a: 3, b:4.5}))\n",
        "print(sess.run(adder_node, feed_dict={a: [1,3], b:[2,4]}))"
      ],
      "execution_count": 12,
      "outputs": [
        {
          "output_type": "stream",
          "text": [
            "7.5\n",
            "[3. 7.]\n"
          ],
          "name": "stdout"
        }
      ]
    },
    {
      "cell_type": "code",
      "metadata": {
        "id": "ppEBUcBBFPyB",
        "colab_type": "code",
        "colab": {}
      },
      "source": [
        "#Math_entity rank(차원)\n",
        "#Scalar    : 0\n",
        "#Vector    : 1\n",
        "#Matrix    : 2\n",
        "#3-Tensor  : 3\n",
        "#n-Tensor  : n\n",
        "\n",
        "#Shape : 각각 몇개의 요소가 있는가\n",
        "\n",
        "#Data type\n",
        "#대부분의 경우 tf.float32, tf.int32를 사용"
      ],
      "execution_count": 0,
      "outputs": []
    }
  ]
}